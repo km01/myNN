{
  "nbformat": 4,
  "nbformat_minor": 0,
  "metadata": {
    "colab": {
      "provenance": []
    },
    "kernelspec": {
      "name": "python3",
      "display_name": "Python 3"
    },
    "language_info": {
      "name": "python"
    }
  },
  "cells": [
    {
      "cell_type": "code",
      "execution_count": 64,
      "metadata": {
        "id": "80X73LMCHkWG"
      },
      "outputs": [],
      "source": [
        "import time\n",
        "import numpy as np\n",
        "import torch\n",
        "import torch.nn as nn\n",
        "from sklearn.datasets import make_swiss_roll\n",
        "import matplotlib.pyplot as plt\n",
        "from torch.nn import Sequential as Sq\n",
        "import torch.optim as optim\n",
        "from torch.utils.data import DataLoader\n",
        "import torch.autograd as autograd\n",
        "import argparse\n",
        "\n",
        "\n",
        "class AverageMeter(object):\n",
        "    def __init__(self):\n",
        "        self.reset()\n",
        "\n",
        "    def reset(self):\n",
        "        self.avg = 0\n",
        "        self.sum = 0\n",
        "        self.cnt = 0\n",
        "\n",
        "    def update(self, val, n=1):\n",
        "        self.sum += val * n\n",
        "        self.cnt += n\n",
        "        self.avg = self.sum / self.cnt\n",
        "\n",
        "\n",
        "class SwissRoll(torch.utils.data.Dataset):\n",
        "    def __init__(self, n_samples=100000, noise=0.5):\n",
        "        from sklearn.datasets import make_swiss_roll\n",
        "        x = make_swiss_roll(n_samples=n_samples, noise=0.5)[0][:,[0, 2]]\n",
        "        xmin, xmax = x.min(axis=0)[0], x.max(axis=0)[0]\n",
        "        x = (x - xmin) / (xmax - xmin)\n",
        "        self.x = torch.FloatTensor(2. * x - 1.)\n",
        "\n",
        "    def __len__(self):\n",
        "        return len(self.x)\n",
        "\n",
        "    def __getitem__(self, idx):\n",
        "        return self.x[idx]"
      ]
    },
    {
      "cell_type": "code",
      "source": [
        "class Score(nn.Module):\n",
        "    def __init__(self, x_dim=2, hidden_dim=256):\n",
        "        super().__init__()\n",
        "        self.x_dim = x_dim\n",
        "        self.hidden_dim = hidden_dim\n",
        "\n",
        "        self.net = Sq(nn.Linear(x_dim, hidden_dim),\n",
        "                      nn.GroupNorm(32, hidden_dim),\n",
        "                      nn.SiLU(inplace=True),\n",
        "                      nn.Linear(hidden_dim, hidden_dim),\n",
        "                      nn.GroupNorm(32, hidden_dim),\n",
        "                      nn.SiLU(inplace=True),\n",
        "                      nn.Linear(hidden_dim, hidden_dim),\n",
        "                      nn.GroupNorm(32, hidden_dim),\n",
        "                      nn.SiLU(inplace=True),\n",
        "                      nn.Linear(hidden_dim, x_dim))\n",
        "\n",
        "    def forward(self, x):\n",
        "        return self.net(x)"
      ],
      "metadata": {
        "id": "z9kSEsXaIXhq"
      },
      "execution_count": 65,
      "outputs": []
    },
    {
      "cell_type": "code",
      "source": [
        "dataset = SwissRoll()\n",
        "score = Score()\n",
        "optimizer = optim.Adam(score.parameters(), lr=1e-3)\n",
        "loss_meter = AverageMeter()"
      ],
      "metadata": {
        "id": "25rpvkh0JjAX"
      },
      "execution_count": 66,
      "outputs": []
    },
    {
      "cell_type": "code",
      "source": [
        "plt.figure(figsize=(5, 5))\n",
        "plt.title('p_data(x)')\n",
        "plt.hist2d(dataset.x[:10000,0].numpy(), dataset.x[:10000,1].numpy(), 200, range=((-2, 2), (-2, 2)))\n",
        "plt.show()"
      ],
      "metadata": {
        "colab": {
          "base_uri": "https://localhost:8080/",
          "height": 336
        },
        "id": "sOZ4FLUtZ_ZF",
        "outputId": "a45bac38-809e-4a24-fbdf-68c54017d655"
      },
      "execution_count": 73,
      "outputs": [
        {
          "output_type": "display_data",
          "data": {
            "text/plain": [
              "<Figure size 360x360 with 1 Axes>"
            ],
            "image/png": "[encoded data removed]"
          },
          "metadata": {
            "needs_background": "light"
          }
        }
      ]
    },
    {
      "cell_type": "code",
      "source": [
        "loader = DataLoader(dataset, batch_size=128, shuffle=True, drop_last=True)\n",
        "\n",
        "for epoch in range(20):\n",
        "    loss_meter.reset()\n",
        "    for x in loader:\n",
        "        x.requires_grad_(True)\n",
        "        x1, x2 = x.chunk(2, -1)\n",
        "        x = torch.cat([x1, x2], -1)\n",
        "        optimizer.zero_grad()\n",
        "        s1, s2 = score(x).chunk(2, -1)\n",
        "        \n",
        "        term1 = 0.5 * (s1.square() + s2.square())\n",
        "        trace1 = autograd.grad(outputs=s1,\n",
        "                               inputs=x1,\n",
        "                               grad_outputs=torch.ones_like(s1),\n",
        "                               create_graph=True)[0]\n",
        "        \n",
        "        trace2 = autograd.grad(outputs=s2,\n",
        "                               inputs=x2,\n",
        "                               grad_outputs=torch.ones_like(s2),\n",
        "                               create_graph=True)[0]\n",
        "        \n",
        "        loss = term1 + trace1 + trace2\n",
        "        loss = loss.mean()\n",
        "        loss.backward()\n",
        "        optimizer.step()\n",
        "        loss_meter.update(loss.item())\n",
        "    print('[epoch %3d] | %s: %7.5f' % (epoch, 'loss', loss_meter.avg))"
      ],
      "metadata": {
        "colab": {
          "base_uri": "https://localhost:8080/"
        },
        "id": "LdjCzrMrKKiN",
        "outputId": "8a78d727-7a04-4705-f770-213616ef264b"
      },
      "execution_count": 67,
      "outputs": [
        {
          "output_type": "stream",
          "name": "stdout",
          "text": [
            "[epoch   0] | loss: -198.91264\n",
            "[epoch   1] | loss: -292.91875\n",
            "[epoch   2] | loss: -303.99601\n",
            "[epoch   3] | loss: -307.33917\n",
            "[epoch   4] | loss: -312.95971\n",
            "[epoch   5] | loss: -314.51666\n",
            "[epoch   6] | loss: -316.33855\n",
            "[epoch   7] | loss: -318.77040\n",
            "[epoch   8] | loss: -319.55351\n",
            "[epoch   9] | loss: -318.98139\n",
            "[epoch  10] | loss: -320.08380\n",
            "[epoch  11] | loss: -321.60532\n",
            "[epoch  12] | loss: -321.50799\n",
            "[epoch  13] | loss: -321.39034\n",
            "[epoch  14] | loss: -321.86617\n",
            "[epoch  15] | loss: -322.92248\n",
            "[epoch  16] | loss: -323.47348\n",
            "[epoch  17] | loss: -323.73225\n",
            "[epoch  18] | loss: -325.53145\n",
            "[epoch  19] | loss: -325.03505\n"
          ]
        }
      ]
    },
    {
      "cell_type": "code",
      "source": [
        "@torch.no_grad()\n",
        "def langevin_dynamics(x, score, num_steps=1000, dt=0.01):\n",
        "    dt = torch.tensor([dt]).to(x.device)\n",
        "    for i in range(num_steps):\n",
        "        dx = 0.5 * score(x) * dt + torch.randn_like(x) * dt.sqrt()\n",
        "        x = x + dx\n",
        "\n",
        "    return x"
      ],
      "metadata": {
        "id": "QHp7m66iMHBN"
      },
      "execution_count": 68,
      "outputs": []
    },
    {
      "cell_type": "code",
      "source": [
        "num_samples = 10000\n",
        "num_steps = 2000\n",
        "dt = 0.001\n",
        "x = torch.randn(num_samples, 2)\n",
        "x = langevin_dynamics(x, score, num_steps, dt)"
      ],
      "metadata": {
        "id": "m_QUhMT7M3L-"
      },
      "execution_count": 69,
      "outputs": []
    },
    {
      "cell_type": "code",
      "source": [
        "plt.figure(figsize=(5, 5))\n",
        "plt.title('p_model(x)')\n",
        "plt.hist2d(x[:,0].numpy(), x[:,1].numpy(), 200, range=((-2, 2), (-2, 2)))\n",
        "# plt.axis('off')\n",
        "plt.show()"
      ],
      "metadata": {
        "colab": {
          "base_uri": "https://localhost:8080/",
          "height": 336
        },
        "id": "pvz5AJVvM6ij",
        "outputId": "181e8ad8-1b8a-427c-c14a-b91af641bd95"
      },
      "execution_count": 71,
      "outputs": [
        {
          "output_type": "display_data",
          "data": {
            "text/plain": [
              "<Figure size 360x360 with 1 Axes>"
            ],
            "image/png": "[encoded data removed]"
          },
          "metadata": {
            "needs_background": "light"
          }
        }
      ]
    }
  ]
}