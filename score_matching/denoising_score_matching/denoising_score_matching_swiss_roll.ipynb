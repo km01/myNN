{
  "nbformat": 4,
  "nbformat_minor": 0,
  "metadata": {
    "colab": {
      "provenance": []
    },
    "kernelspec": {
      "name": "python3",
      "display_name": "Python 3"
    },
    "language_info": {
      "name": "python"
    }
  },
  "cells": [
    {
      "cell_type": "code",
      "execution_count": 6,
      "metadata": {
        "id": "tR_8YYf92uPA"
      },
      "outputs": [],
      "source": [
        "import time\n",
        "import numpy as np\n",
        "import torch\n",
        "import torch.nn as nn\n",
        "from sklearn.datasets import make_swiss_roll\n",
        "import matplotlib.pyplot as plt\n",
        "from torch.nn import Sequential as Sq\n",
        "import torch.optim as optim\n",
        "from torch.utils.data import DataLoader\n",
        "import torch.autograd as autograd\n",
        "import argparse\n",
        "\n",
        "\n",
        "class AverageMeter(object):\n",
        "    def __init__(self):\n",
        "        self.reset()\n",
        "\n",
        "    def reset(self):\n",
        "        self.avg = 0\n",
        "        self.sum = 0\n",
        "        self.cnt = 0\n",
        "\n",
        "    def update(self, val, n=1):\n",
        "        self.sum += val * n\n",
        "        self.cnt += n\n",
        "        self.avg = self.sum / self.cnt\n",
        "\n",
        "\n",
        "class SwissRoll(torch.utils.data.Dataset):\n",
        "    def __init__(self, n_samples=100000, noise=0.5):\n",
        "        from sklearn.datasets import make_swiss_roll\n",
        "        x = make_swiss_roll(n_samples=n_samples, noise=0.5)[0][:,[0, 2]]\n",
        "        xmin, xmax = x.min(axis=0)[0], x.max(axis=0)[0]\n",
        "        x = (x - xmin) / (xmax - xmin)\n",
        "        self.x = torch.FloatTensor(2. * x - 1.)\n",
        "\n",
        "    def __len__(self):\n",
        "        return len(self.x)\n",
        "\n",
        "    def __getitem__(self, idx):\n",
        "        return self.x[idx]"
      ]
    },
    {
      "cell_type": "code",
      "source": [
        "class Score(nn.Module):\n",
        "    def __init__(self, x_dim=2, hidden_dim=256):\n",
        "        super().__init__()\n",
        "        self.x_dim = x_dim\n",
        "        self.hidden_dim = hidden_dim\n",
        "\n",
        "        self.net = Sq(nn.Linear(x_dim + 1, hidden_dim),\n",
        "                      nn.GroupNorm(32, hidden_dim),\n",
        "                      nn.SiLU(inplace=True),\n",
        "                      nn.Linear(hidden_dim, hidden_dim),\n",
        "                      nn.GroupNorm(32, hidden_dim),\n",
        "                      nn.SiLU(inplace=True),\n",
        "                      nn.Linear(hidden_dim, hidden_dim),\n",
        "                      nn.GroupNorm(32, hidden_dim),\n",
        "                      nn.SiLU(inplace=True),\n",
        "                      nn.Linear(hidden_dim, x_dim))\n",
        "\n",
        "    def forward(self, x, t):\n",
        "        return self.net(torch.cat([x, t], -1))"
      ],
      "metadata": {
        "id": "p36PiOJG27xa"
      },
      "execution_count": 7,
      "outputs": []
    },
    {
      "cell_type": "code",
      "source": [
        "class VESDE(nn.Module):\n",
        "    def __init__(self, min_std=0.001, max_std=10.00):\n",
        "        super().__init__()\n",
        "        self.register_buffer('min_std', torch.tensor([min_std]))\n",
        "        self.register_buffer('max_std', torch.tensor([max_std]))\n",
        "    \n",
        "    def sample_t(self, batch_size):\n",
        "        return torch.rand(batch_size)\n",
        "\n",
        "    def g(self, t):\n",
        "        return self.min_std * torch.pow((self.max_std / self.min_std), t)\n",
        "\n",
        "    def std(self, t):\n",
        "        return self.g(t)\n",
        "\n",
        "    def marg_std(self, t):\n",
        "        coeff = self.min_std / (torch.log(self.max_std / self.min_std))\n",
        "        integral = coeff * (torch.pow((self.max_std / self.min_std), t) - 1)\n",
        "        return self.min_std + integral\n"
      ],
      "metadata": {
        "id": "Vr_t9X11274M"
      },
      "execution_count": 10,
      "outputs": []
    },
    {
      "cell_type": "code",
      "source": [
        "args = argparse.Namespace()\n",
        "\n",
        "args.min_std = 1e-3\n",
        "args.max_std = 25.0\n",
        "args.learning_rate = 1e-4\n",
        "args.batch_size = 256\n",
        "args.num_epochs = 100\n",
        "\n",
        "\n",
        "dataset = SwissRoll()\n",
        "score = Score()\n",
        "vesde = VESDE(min_std=args.min_std, max_std=args.max_std)\n",
        "optimizer = optim.Adam(score.parameters(), lr=args.learning_rate)\n",
        "loader = DataLoader(dataset, batch_size=args.batch_size, shuffle=True, drop_last=True)\n",
        "loss_meter = AverageMeter()"
      ],
      "metadata": {
        "id": "WL1lfVSBDVSx"
      },
      "execution_count": 18,
      "outputs": []
    },
    {
      "cell_type": "code",
      "source": [
        "for epoch in range(100):\n",
        "    loss_meter.reset()\n",
        "    for x in loader:\n",
        "        \n",
        "        t = vesde.sample_t(batch_size=x.size()[0])\n",
        "        t = t.unsqueeze(1)\n",
        "        optimizer.zero_grad()\n",
        "        marg_std = vesde.marg_std(t)\n",
        "        noise = torch.randn_like(x)\n",
        "        xt = x + marg_std * noise\n",
        "        s = score(xt, t)\n",
        "        loss = (marg_std * s + noise).square().mean(dim=0).sum()\n",
        "        loss.backward()\n",
        "        optimizer.step()\n",
        "\n",
        "        loss_meter.update(loss.item(), x.size()[0])\n",
        "    print('[epoch %d] | %s: %7.5f |' % (epoch, 'loss', loss_meter.avg))"
      ],
      "metadata": {
        "colab": {
          "base_uri": "https://localhost:8080/"
        },
        "id": "hHsxF1HBLTYj",
        "outputId": "13721ec4-64e2-47a5-9a76-0311671dcd31"
      },
      "execution_count": 19,
      "outputs": [
        {
          "output_type": "stream",
          "name": "stdout",
          "text": [
            "[epoch 0] | loss: 1.78287 |\n",
            "[epoch 1] | loss: 1.73715 |\n",
            "[epoch 2] | loss: 1.70030 |\n",
            "[epoch 3] | loss: 1.68988 |\n",
            "[epoch 4] | loss: 1.68426 |\n",
            "[epoch 5] | loss: 1.66867 |\n",
            "[epoch 6] | loss: 1.67354 |\n",
            "[epoch 7] | loss: 1.66475 |\n",
            "[epoch 8] | loss: 1.65709 |\n",
            "[epoch 9] | loss: 1.65639 |\n",
            "[epoch 10] | loss: 1.65192 |\n",
            "[epoch 11] | loss: 1.63355 |\n",
            "[epoch 12] | loss: 1.62546 |\n",
            "[epoch 13] | loss: 1.63641 |\n",
            "[epoch 14] | loss: 1.62397 |\n",
            "[epoch 15] | loss: 1.62919 |\n",
            "[epoch 16] | loss: 1.62406 |\n",
            "[epoch 17] | loss: 1.60972 |\n",
            "[epoch 18] | loss: 1.61359 |\n",
            "[epoch 19] | loss: 1.60020 |\n",
            "[epoch 20] | loss: 1.60143 |\n",
            "[epoch 21] | loss: 1.59286 |\n",
            "[epoch 22] | loss: 1.59637 |\n",
            "[epoch 23] | loss: 1.58314 |\n",
            "[epoch 24] | loss: 1.59418 |\n",
            "[epoch 25] | loss: 1.58627 |\n",
            "[epoch 26] | loss: 1.59702 |\n",
            "[epoch 27] | loss: 1.59170 |\n",
            "[epoch 28] | loss: 1.57898 |\n",
            "[epoch 29] | loss: 1.58277 |\n",
            "[epoch 30] | loss: 1.58340 |\n",
            "[epoch 31] | loss: 1.57022 |\n",
            "[epoch 32] | loss: 1.57869 |\n",
            "[epoch 33] | loss: 1.56653 |\n",
            "[epoch 34] | loss: 1.57012 |\n",
            "[epoch 35] | loss: 1.57018 |\n",
            "[epoch 36] | loss: 1.57772 |\n",
            "[epoch 37] | loss: 1.55273 |\n",
            "[epoch 38] | loss: 1.56983 |\n",
            "[epoch 39] | loss: 1.57512 |\n",
            "[epoch 40] | loss: 1.57541 |\n",
            "[epoch 41] | loss: 1.56162 |\n",
            "[epoch 42] | loss: 1.57251 |\n",
            "[epoch 43] | loss: 1.56038 |\n",
            "[epoch 44] | loss: 1.57236 |\n",
            "[epoch 45] | loss: 1.55784 |\n",
            "[epoch 46] | loss: 1.56624 |\n",
            "[epoch 47] | loss: 1.56021 |\n",
            "[epoch 48] | loss: 1.56527 |\n",
            "[epoch 49] | loss: 1.56194 |\n",
            "[epoch 50] | loss: 1.55286 |\n",
            "[epoch 51] | loss: 1.57446 |\n",
            "[epoch 52] | loss: 1.56397 |\n",
            "[epoch 53] | loss: 1.55336 |\n",
            "[epoch 54] | loss: 1.56395 |\n",
            "[epoch 55] | loss: 1.55281 |\n",
            "[epoch 56] | loss: 1.56577 |\n",
            "[epoch 57] | loss: 1.56511 |\n",
            "[epoch 58] | loss: 1.55854 |\n",
            "[epoch 59] | loss: 1.56818 |\n",
            "[epoch 60] | loss: 1.56013 |\n",
            "[epoch 61] | loss: 1.55672 |\n",
            "[epoch 62] | loss: 1.55922 |\n",
            "[epoch 63] | loss: 1.55591 |\n",
            "[epoch 64] | loss: 1.55559 |\n",
            "[epoch 65] | loss: 1.55841 |\n",
            "[epoch 66] | loss: 1.55939 |\n",
            "[epoch 67] | loss: 1.55715 |\n",
            "[epoch 68] | loss: 1.56606 |\n",
            "[epoch 69] | loss: 1.55873 |\n",
            "[epoch 70] | loss: 1.56385 |\n",
            "[epoch 71] | loss: 1.55777 |\n",
            "[epoch 72] | loss: 1.55786 |\n",
            "[epoch 73] | loss: 1.55957 |\n",
            "[epoch 74] | loss: 1.56858 |\n",
            "[epoch 75] | loss: 1.55140 |\n",
            "[epoch 76] | loss: 1.55865 |\n",
            "[epoch 77] | loss: 1.55120 |\n",
            "[epoch 78] | loss: 1.56839 |\n",
            "[epoch 79] | loss: 1.56553 |\n",
            "[epoch 80] | loss: 1.56052 |\n",
            "[epoch 81] | loss: 1.55392 |\n",
            "[epoch 82] | loss: 1.55226 |\n",
            "[epoch 83] | loss: 1.56262 |\n",
            "[epoch 84] | loss: 1.55795 |\n",
            "[epoch 85] | loss: 1.55262 |\n",
            "[epoch 86] | loss: 1.55289 |\n",
            "[epoch 87] | loss: 1.56234 |\n",
            "[epoch 88] | loss: 1.55586 |\n",
            "[epoch 89] | loss: 1.56289 |\n",
            "[epoch 90] | loss: 1.54857 |\n",
            "[epoch 91] | loss: 1.54806 |\n",
            "[epoch 92] | loss: 1.55649 |\n",
            "[epoch 93] | loss: 1.55578 |\n",
            "[epoch 94] | loss: 1.54888 |\n",
            "[epoch 95] | loss: 1.55617 |\n",
            "[epoch 96] | loss: 1.55767 |\n",
            "[epoch 97] | loss: 1.56195 |\n",
            "[epoch 98] | loss: 1.56443 |\n",
            "[epoch 99] | loss: 1.55951 |\n"
          ]
        }
      ]
    },
    {
      "cell_type": "code",
      "source": [
        "@torch.no_grad()\n",
        "\n",
        "def sample_euler(sde, score, num_samples, num_steps):\n",
        "\n",
        "    x = sde.marg_std(t=1.) * torch.randn(num_samples, 2)\n",
        "    t = torch.ones(num_samples).unsqueeze(1)\n",
        "\n",
        "\n",
        "    reversed_time = torch.linspace(1., 0., num_steps)\n",
        "    dt = reversed_time[1] - reversed_time[0] # negative value\n",
        "\n",
        "    for i in range(num_steps):\n",
        "        t.fill_(reversed_time[i])\n",
        "        g = sde.g(reversed_time[i])\n",
        "        dw = dt.abs().sqrt() * torch.randn_like(x)\n",
        "        dx = - (g**2) * score(x, t) * dt + g * dw\n",
        "        x = x + dx\n",
        "    \n",
        "    return x\n",
        "\n",
        "x = sample_euler(vesde, score, num_samples=1000, num_steps=1000)\n",
        "plt.figure(figsize=(8, 8))\n",
        "plt.scatter(x[:, 0], x[:, 1], s=3)\n",
        "plt.show()"
      ],
      "metadata": {
        "colab": {
          "base_uri": "https://localhost:8080/",
          "height": 483
        },
        "id": "se8NTbstaxbG",
        "outputId": "a6a14ae4-9396-456d-e842-545cbaf0e887"
      },
      "execution_count": 21,
      "outputs": [
        {
          "output_type": "display_data",
          "data": {
            "text/plain": [
              "<Figure size 576x576 with 1 Axes>"
            ],
            "image/png": "[encoded data removed]"
          },
          "metadata": {
            "needs_background": "light"
          }
        }
      ]
    },
    {
      "cell_type": "code",
      "source": [
        "# discrete style sampling\n",
        "\n",
        "def forward_sn_coeff(alp_s, std_s, alp_t, std_t): # 0 <= s < t <= 1\n",
        "    falp_t = alp_t / alp_s  # q(t|s)\n",
        "    fstd_t = (std_t.square() - std_s.square() * falp_t.square()).sqrt()\n",
        "    return falp_t, fstd_t\n",
        "\n",
        "def reverse_sn_coeff(alp_s, std_s, alp_t, std_t):        # q(z_s|z_t, z_0)\n",
        "    falp_t, fstd_t = forward_sn_coeff(alp_s, std_s, alp_t, std_t)\n",
        "    rstd_s = std_s * fstd_t / std_t\n",
        "    ralp_0 = rstd_s.square() * alp_s / std_s.square()    # for z0(= signal)\n",
        "    ralp_t = rstd_s.square() * falp_t / fstd_t.square()  # for zt(= noise at time t)\n",
        "    return ralp_0, ralp_t, rstd_s\n",
        "\n",
        "@torch.no_grad()\n",
        "def reverse_process(vesde, z, model, num_steps):\n",
        "    time = torch.ones(z.size()[0]).to(z.device)\n",
        "    reversed_time = torch.linspace(1., 0., num_steps + 1)\n",
        "    dt = reversed_time[0] - reversed_time[1]\n",
        "    for i in range(num_steps): # t -> s\n",
        "        t = reversed_time[i]        \n",
        "        s = reversed_time[i + 1]\n",
        "\n",
        "        std_s = vesde.marg_std(s).unsqueeze(1)\n",
        "        std_t = vesde.marg_std(t).unsqueeze(1)\n",
        "        alp_s = torch.ones_like(std_s)\n",
        "        alp_t = torch.ones_like(std_t)\n",
        "        ralp_0, ralp_t, rstd_s = reverse_sn_coeff(alp_s, std_s, alp_t, std_t)\n",
        "        time.fill_(t)\n",
        "        score = model(z, time.unsqueeze(1))\n",
        "        x_pred = z + std_t.square() * score\n",
        "        rloc_s = ralp_0 * x_pred + ralp_t * z\n",
        "        z = rloc_s + torch.randn_like(z) * rstd_s\n",
        "    return x_pred\n",
        "\n",
        "\n",
        "z = vesde.marg_std(t=1.) * torch.randn(1000, 2)\n",
        "x = reverse_process(vesde, z, score, 1000)\n",
        "plt.figure(figsize=(8, 8))\n",
        "\n",
        "plt.scatter(x[:, 0], x[:, 1], s=3)\n",
        "plt.show()"
      ],
      "metadata": {
        "colab": {
          "base_uri": "https://localhost:8080/",
          "height": 483
        },
        "id": "9EnRSRLKXf2w",
        "outputId": "923697f5-d2fd-401f-cbd2-99e2a7181679"
      },
      "execution_count": 22,
      "outputs": [
        {
          "output_type": "display_data",
          "data": {
            "text/plain": [
              "<Figure size 576x576 with 1 Axes>"
            ],
            "image/png": "[encoded data removed]"
          },
          "metadata": {
            "needs_background": "light"
          }
        }
      ]
    }
  ]
}