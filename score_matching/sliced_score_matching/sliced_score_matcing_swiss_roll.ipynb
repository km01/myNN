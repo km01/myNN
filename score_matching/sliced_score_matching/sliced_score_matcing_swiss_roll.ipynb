{
  "nbformat": 4,
  "nbformat_minor": 0,
  "metadata": {
    "colab": {
      "provenance": []
    },
    "kernelspec": {
      "name": "python3",
      "display_name": "Python 3"
    },
    "language_info": {
      "name": "python"
    }
  },
  "cells": [
    {
      "cell_type": "code",
      "execution_count": null,
      "metadata": {
        "id": "rZtg9L5L3KQ0"
      },
      "outputs": [],
      "source": []
    },
    {
      "cell_type": "code",
      "execution_count": 1,
      "metadata": {
        "id": "80X73LMCHkWG"
      },
      "outputs": [],
      "source": [
        "import time\n",
        "import numpy as np\n",
        "import torch\n",
        "import torch.nn as nn\n",
        "from sklearn.datasets import make_swiss_roll\n",
        "import matplotlib.pyplot as plt\n",
        "from torch.nn import Sequential as Sq\n",
        "import torch.optim as optim\n",
        "from torch.utils.data import DataLoader\n",
        "import torch.autograd as autograd\n",
        "import argparse\n",
        "\n",
        "\n",
        "class AverageMeter(object):\n",
        "    def __init__(self):\n",
        "        self.reset()\n",
        "\n",
        "    def reset(self):\n",
        "        self.avg = 0\n",
        "        self.sum = 0\n",
        "        self.cnt = 0\n",
        "\n",
        "    def update(self, val, n=1):\n",
        "        self.sum += val * n\n",
        "        self.cnt += n\n",
        "        self.avg = self.sum / self.cnt\n",
        "\n",
        "\n",
        "class SwissRoll(torch.utils.data.Dataset):\n",
        "    def __init__(self, n_samples=100000, noise=0.5):\n",
        "        from sklearn.datasets import make_swiss_roll\n",
        "        x = make_swiss_roll(n_samples=n_samples, noise=0.5)[0][:,[0, 2]]\n",
        "        xmin, xmax = x.min(axis=0)[0], x.max(axis=0)[0]\n",
        "        x = (x - xmin) / (xmax - xmin)\n",
        "        self.x = torch.FloatTensor(2. * x - 1.)\n",
        "\n",
        "    def __len__(self):\n",
        "        return len(self.x)\n",
        "\n",
        "    def __getitem__(self, idx):\n",
        "        return self.x[idx]"
      ]
    },
    {
      "cell_type": "code",
      "source": [
        "class Score(nn.Module):\n",
        "    def __init__(self, x_dim=2, hidden_dim=256):\n",
        "        super().__init__()\n",
        "        self.x_dim = x_dim\n",
        "        self.hidden_dim = hidden_dim\n",
        "\n",
        "        self.net = Sq(nn.Linear(x_dim, hidden_dim),\n",
        "                      nn.GroupNorm(32, hidden_dim),\n",
        "                      nn.SiLU(inplace=True),\n",
        "                      nn.Linear(hidden_dim, hidden_dim),\n",
        "                      nn.GroupNorm(32, hidden_dim),\n",
        "                      nn.SiLU(inplace=True),\n",
        "                      nn.Linear(hidden_dim, hidden_dim),\n",
        "                      nn.GroupNorm(32, hidden_dim),\n",
        "                      nn.SiLU(inplace=True),\n",
        "                      nn.Linear(hidden_dim, x_dim))\n",
        "\n",
        "    def forward(self, x):\n",
        "        return self.net(x)"
      ],
      "metadata": {
        "id": "z9kSEsXaIXhq"
      },
      "execution_count": 2,
      "outputs": []
    },
    {
      "cell_type": "code",
      "source": [
        "dataset = SwissRoll()\n",
        "score = Score()\n",
        "optimizer = optim.Adam(score.parameters(), lr=1e-3)\n",
        "loss_meter = AverageMeter()"
      ],
      "metadata": {
        "id": "25rpvkh0JjAX"
      },
      "execution_count": 9,
      "outputs": []
    },
    {
      "cell_type": "code",
      "source": [
        "loader = DataLoader(dataset, batch_size=128, shuffle=True, drop_last=True)\n",
        "\n",
        "for epoch in range(50):\n",
        "    loss_meter.reset()\n",
        "    for x in loader:\n",
        "        x.requires_grad_(True)\n",
        "        optimizer.zero_grad()\n",
        "        v = torch.randn_like(x)\n",
        "        s = score(x)\n",
        "        loss1 = 0.5 * (v * s).square().sum(dim=-1).mean()\n",
        "        vs = (v * s).sum(dim=-1, keepdim=True)\n",
        "        grad2 = autograd.grad(outputs=vs,\n",
        "                              inputs=x,\n",
        "                              grad_outputs=torch.ones_like(vs),\n",
        "                              create_graph=True)[0]\n",
        "        loss2 = (grad2 * v).sum(dim=-1).mean()\n",
        "        loss = loss1 + loss2\n",
        "        loss = loss.mean()\n",
        "        loss.backward()\n",
        "        optimizer.step()\n",
        "        loss_meter.update(loss.item())\n",
        "    print('[epoch %3d] | %s: %7.5f' % (epoch, 'loss', loss_meter.avg))"
      ],
      "metadata": {
        "colab": {
          "base_uri": "https://localhost:8080/"
        },
        "id": "o6tydRplOJHa",
        "outputId": "42b0f7e3-8727-4bfd-d4e5-99a508601add"
      },
      "execution_count": 10,
      "outputs": [
        {
          "output_type": "stream",
          "name": "stdout",
          "text": [
            "[epoch   0] | loss: -148.45204\n",
            "[epoch   1] | loss: -253.90152\n",
            "[epoch   2] | loss: -277.18511\n",
            "[epoch   3] | loss: -287.84708\n",
            "[epoch   4] | loss: -296.87059\n",
            "[epoch   5] | loss: -297.03063\n",
            "[epoch   6] | loss: -298.12825\n",
            "[epoch   7] | loss: -301.17119\n",
            "[epoch   8] | loss: -299.41525\n",
            "[epoch   9] | loss: -299.41892\n",
            "[epoch  10] | loss: -302.94096\n",
            "[epoch  11] | loss: -303.51935\n",
            "[epoch  12] | loss: -301.92813\n",
            "[epoch  13] | loss: -307.73217\n",
            "[epoch  14] | loss: -307.16072\n",
            "[epoch  15] | loss: -308.76933\n",
            "[epoch  16] | loss: -304.24263\n",
            "[epoch  17] | loss: -313.01284\n",
            "[epoch  18] | loss: -312.47061\n",
            "[epoch  19] | loss: -311.24292\n",
            "[epoch  20] | loss: -311.39747\n",
            "[epoch  21] | loss: -311.16705\n",
            "[epoch  22] | loss: -310.54594\n",
            "[epoch  23] | loss: -314.95405\n",
            "[epoch  24] | loss: -314.34282\n",
            "[epoch  25] | loss: -314.25533\n",
            "[epoch  26] | loss: -314.40418\n",
            "[epoch  27] | loss: -312.82591\n",
            "[epoch  28] | loss: -311.15669\n",
            "[epoch  29] | loss: -316.51343\n",
            "[epoch  30] | loss: -316.02513\n",
            "[epoch  31] | loss: -315.28885\n",
            "[epoch  32] | loss: -315.89577\n",
            "[epoch  33] | loss: -314.59325\n",
            "[epoch  34] | loss: -315.87675\n",
            "[epoch  35] | loss: -311.54822\n",
            "[epoch  36] | loss: -315.94961\n",
            "[epoch  37] | loss: -315.10132\n",
            "[epoch  38] | loss: -316.26436\n",
            "[epoch  39] | loss: -313.82007\n",
            "[epoch  40] | loss: -317.97247\n",
            "[epoch  41] | loss: -315.92442\n",
            "[epoch  42] | loss: -314.33445\n",
            "[epoch  43] | loss: -316.24154\n",
            "[epoch  44] | loss: -317.74966\n",
            "[epoch  45] | loss: -319.44378\n",
            "[epoch  46] | loss: -319.72480\n",
            "[epoch  47] | loss: -323.92611\n",
            "[epoch  48] | loss: -320.97905\n",
            "[epoch  49] | loss: -318.21277\n"
          ]
        }
      ]
    },
    {
      "cell_type": "code",
      "source": [
        "@torch.no_grad()\n",
        "def langevin_dynamics(x, score, num_steps=1000, dt=0.01):\n",
        "    chain = [x.detach().cpu().numpy()]\n",
        "    dt = torch.tensor([dt]).to(x.device)\n",
        "    for i in range(num_steps):\n",
        "        dx = 0.5 * score(x) * dt + torch.randn_like(x) * dt.sqrt()\n",
        "        x = x + dx\n",
        "        chain += [x.detach().cpu().numpy()]\n",
        "\n",
        "    return chain"
      ],
      "metadata": {
        "id": "QHp7m66iMHBN"
      },
      "execution_count": 15,
      "outputs": []
    },
    {
      "cell_type": "code",
      "source": [
        "num_samples = 10000\n",
        "num_steps = 1000\n",
        "dt = 0.0005\n",
        "x = torch.randn(num_samples, 2)\n",
        "chain = langevin_dynamics(x, score, num_steps, dt)"
      ],
      "metadata": {
        "id": "m_QUhMT7M3L-"
      },
      "execution_count": 16,
      "outputs": []
    },
    {
      "cell_type": "code",
      "source": [
        "plt.figure(figsize=(5, 5))\n",
        "plt.title('p_model(x)')\n",
        "plt.hist2d(chain[-1][:,0],chain[-1][:,1], 200, range=((-2, 2), (-2, 2)))\n",
        "plt.axis('off')\n",
        "plt.show()"
      ],
      "metadata": {
        "colab": {
          "base_uri": "https://localhost:8080/",
          "height": 319
        },
        "id": "SP8mSoj9V6o9",
        "outputId": "ed55b4a0-0b60-4f68-d963-3da8a5128537"
      },
      "execution_count": 17,
      "outputs": [
        {
          "output_type": "display_data",
          "data": {
            "text/plain": [
              "<Figure size 360x360 with 1 Axes>"
            ],
            "image/png": "[encoded data removed]"
          },
          "metadata": {
            "needs_background": "light"
          }
        }
      ]
    }
  ]
}